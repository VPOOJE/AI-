{
  "nbformat": 4,
  "nbformat_minor": 0,
  "metadata": {
    "colab": {
      "provenance": []
    },
    "kernelspec": {
      "name": "python3",
      "display_name": "Python 3"
    },
    "language_info": {
      "name": "python"
    }
  },
  "cells": [
    {
      "cell_type": "code",
      "execution_count": 1,
      "metadata": {
        "id": "nrJM0K7CrZAb"
      },
      "outputs": [],
      "source": [
        "import os\n",
        "import pandas as pd\n",
        "import numpy as np\n",
        "import matplotlib.pyplot as plt\n",
        "import seaborn as sns\n",
        "import missingno as msno\n",
        "import plotly.graph_objects as go\n",
        "import plotly.express as px\n",
        "from sklearn.preprocessing import LabelEncoder"
      ]
    },
    {
      "cell_type": "code",
      "source": [
        "data=pd.read_csv('/content/Data - Data (1).csv')\n",
        "print(data)"
      ],
      "metadata": {
        "colab": {
          "base_uri": "https://localhost:8080/"
        },
        "id": "PSMvoTq6rl2G",
        "outputId": "df78b710-b86d-4cab-bf8c-810db3838352"
      },
      "execution_count": 13,
      "outputs": [
        {
          "output_type": "stream",
          "name": "stdout",
          "text": [
            "   Country   Age   Salary Purchased\n",
            "0   France  44.0  72000.0        No\n",
            "1    Spain  27.0  48000.0       Yes\n",
            "2  Germany  30.0  54000.0        No\n",
            "3    Spain  38.0  61000.0        No\n",
            "4  Germany  40.0      NaN       Yes\n",
            "5   France  35.0  58000.0       Yes\n",
            "6    Spain   NaN  52000.0        No\n",
            "7   France  48.0  79000.0       Yes\n",
            "8  Germany  50.0  83000.0        No\n",
            "9   France  37.0  67000.0       Yes\n"
          ]
        }
      ]
    },
    {
      "cell_type": "code",
      "source": [
        "df=pd.DataFrame(data)\n",
        "df['Purchased'] = df['Purchased'].replace({'Yes': 1, 'No': 0})\n",
        "print(df)\n"
      ],
      "metadata": {
        "colab": {
          "base_uri": "https://localhost:8080/"
        },
        "id": "KdB2KGNqrp7Z",
        "outputId": "e6a771a4-1cf2-45a0-ba7e-498038d06319"
      },
      "execution_count": 14,
      "outputs": [
        {
          "output_type": "stream",
          "name": "stdout",
          "text": [
            "   Country   Age   Salary  Purchased\n",
            "0   France  44.0  72000.0          0\n",
            "1    Spain  27.0  48000.0          1\n",
            "2  Germany  30.0  54000.0          0\n",
            "3    Spain  38.0  61000.0          0\n",
            "4  Germany  40.0      NaN          1\n",
            "5   France  35.0  58000.0          1\n",
            "6    Spain   NaN  52000.0          0\n",
            "7   France  48.0  79000.0          1\n",
            "8  Germany  50.0  83000.0          0\n",
            "9   France  37.0  67000.0          1\n"
          ]
        }
      ]
    },
    {
      "cell_type": "code",
      "source": [
        "df['Age'].fillna(df['Age'].median(), inplace=True)\n",
        "df['Salary'].fillna(df['Salary'].median(), inplace=True)\n",
        "print(df)"
      ],
      "metadata": {
        "colab": {
          "base_uri": "https://localhost:8080/"
        },
        "id": "h1p-hAhjrusF",
        "outputId": "5bd5c36d-c92b-4bc2-b9bc-f580c08ec9f1"
      },
      "execution_count": 15,
      "outputs": [
        {
          "output_type": "stream",
          "name": "stdout",
          "text": [
            "   Country   Age   Salary  Purchased\n",
            "0   France  44.0  72000.0          0\n",
            "1    Spain  27.0  48000.0          1\n",
            "2  Germany  30.0  54000.0          0\n",
            "3    Spain  38.0  61000.0          0\n",
            "4  Germany  40.0  61000.0          1\n",
            "5   France  35.0  58000.0          1\n",
            "6    Spain  38.0  52000.0          0\n",
            "7   France  48.0  79000.0          1\n",
            "8  Germany  50.0  83000.0          0\n",
            "9   France  37.0  67000.0          1\n"
          ]
        }
      ]
    },
    {
      "cell_type": "code",
      "source": [
        "label_encoder = LabelEncoder()\n",
        "df['Country'] = label_encoder.fit_transform(df['Country'])\n",
        "print(df)"
      ],
      "metadata": {
        "colab": {
          "base_uri": "https://localhost:8080/"
        },
        "id": "qje9LMaKuvZG",
        "outputId": "4f69c930-7fad-4f31-f508-580a5b916c6b"
      },
      "execution_count": 16,
      "outputs": [
        {
          "output_type": "stream",
          "name": "stdout",
          "text": [
            "   Country   Age   Salary  Purchased\n",
            "0        0  44.0  72000.0          0\n",
            "1        2  27.0  48000.0          1\n",
            "2        1  30.0  54000.0          0\n",
            "3        2  38.0  61000.0          0\n",
            "4        1  40.0  61000.0          1\n",
            "5        0  35.0  58000.0          1\n",
            "6        2  38.0  52000.0          0\n",
            "7        0  48.0  79000.0          1\n",
            "8        1  50.0  83000.0          0\n",
            "9        0  37.0  67000.0          1\n"
          ]
        }
      ]
    },
    {
      "cell_type": "markdown",
      "source": [],
      "metadata": {
        "id": "NfP6NkIkuxP-"
      }
    },
    {
      "cell_type": "code",
      "source": [
        "df.rename(columns={'Purchased': 'Sold'}, inplace=True)\n",
        "print(df)"
      ],
      "metadata": {
        "colab": {
          "base_uri": "https://localhost:8080/"
        },
        "id": "dmwDKsOfuzX9",
        "outputId": "bc00eee8-5e43-4329-e10b-9c81b7195f73"
      },
      "execution_count": 17,
      "outputs": [
        {
          "output_type": "stream",
          "name": "stdout",
          "text": [
            "   Country   Age   Salary  Sold\n",
            "0        0  44.0  72000.0     0\n",
            "1        2  27.0  48000.0     1\n",
            "2        1  30.0  54000.0     0\n",
            "3        2  38.0  61000.0     0\n",
            "4        1  40.0  61000.0     1\n",
            "5        0  35.0  58000.0     1\n",
            "6        2  38.0  52000.0     0\n",
            "7        0  48.0  79000.0     1\n",
            "8        1  50.0  83000.0     0\n",
            "9        0  37.0  67000.0     1\n"
          ]
        }
      ]
    },
    {
      "cell_type": "code",
      "source": [
        "threshold = 40\n",
        "df['Age'] = (df['Age'] <= threshold).astype(int)\n",
        "print(df)"
      ],
      "metadata": {
        "colab": {
          "base_uri": "https://localhost:8080/"
        },
        "id": "JVCVoBdXu4k5",
        "outputId": "3bc9aa5b-d6c5-4548-b32f-c1489bfd6a30"
      },
      "execution_count": 18,
      "outputs": [
        {
          "output_type": "stream",
          "name": "stdout",
          "text": [
            "   Country  Age   Salary  Sold\n",
            "0        0    0  72000.0     0\n",
            "1        2    1  48000.0     1\n",
            "2        1    1  54000.0     0\n",
            "3        2    1  61000.0     0\n",
            "4        1    1  61000.0     1\n",
            "5        0    1  58000.0     1\n",
            "6        2    1  52000.0     0\n",
            "7        0    0  79000.0     1\n",
            "8        1    0  83000.0     0\n",
            "9        0    1  67000.0     1\n"
          ]
        }
      ]
    },
    {
      "cell_type": "code",
      "source": [
        "threshold_salary = 60000\n",
        "df['Salary'] = (df['Salary'] > threshold_salary).astype(int)\n",
        "print(df)"
      ],
      "metadata": {
        "colab": {
          "base_uri": "https://localhost:8080/"
        },
        "id": "l_r9_nMlvVU7",
        "outputId": "b65621c2-af20-4a2c-e668-5098c2f9db7d"
      },
      "execution_count": 19,
      "outputs": [
        {
          "output_type": "stream",
          "name": "stdout",
          "text": [
            "   Country  Age  Salary  Sold\n",
            "0        0    0       1     0\n",
            "1        2    1       0     1\n",
            "2        1    1       0     0\n",
            "3        2    1       1     0\n",
            "4        1    1       1     1\n",
            "5        0    1       0     1\n",
            "6        2    1       0     0\n",
            "7        0    0       1     1\n",
            "8        1    0       1     0\n",
            "9        0    1       1     1\n"
          ]
        }
      ]
    },
    {
      "cell_type": "code",
      "source": [
        "data=df.drop(1)\n",
        "print(data)"
      ],
      "metadata": {
        "colab": {
          "base_uri": "https://localhost:8080/"
        },
        "id": "2jeJ_qs7viX3",
        "outputId": "c5b277ab-270f-4500-9c71-76b5a7276da2"
      },
      "execution_count": 20,
      "outputs": [
        {
          "output_type": "stream",
          "name": "stdout",
          "text": [
            "   Country  Age  Salary  Sold\n",
            "0        0    0       1     0\n",
            "2        1    1       0     0\n",
            "3        2    1       1     0\n",
            "4        1    1       1     1\n",
            "5        0    1       0     1\n",
            "6        2    1       0     0\n",
            "7        0    0       1     1\n",
            "8        1    0       1     0\n",
            "9        0    1       1     1\n"
          ]
        }
      ]
    }
  ]
}